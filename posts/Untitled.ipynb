{
 "cells": [
  {
   "cell_type": "raw",
   "id": "94739e7d-f897-4b17-afc6-f96816756f19",
   "metadata": {},
   "source": [
    "---\n",
    "title: \"test\"\n",
    "author: \"이상민\"\n",
    "date: \"04/04/2025\"\n",
    "---"
   ]
  },
  {
   "cell_type": "code",
   "execution_count": 1,
   "id": "6fb3c42c-4026-4627-b4e3-550ae8c8b63a",
   "metadata": {},
   "outputs": [
    {
     "name": "stdout",
     "output_type": "stream",
     "text": [
      "hello\n"
     ]
    }
   ],
   "source": [
    "print('hello')"
   ]
  },
  {
   "cell_type": "code",
   "execution_count": null,
   "id": "0162f8e7",
   "metadata": {},
   "outputs": [],
   "source": []
  },
  {
   "cell_type": "markdown",
   "id": "90b8951a",
   "metadata": {},
   "source": [
    "### 안녕하세요"
   ]
  },
  {
   "cell_type": "markdown",
   "id": "7e59c004",
   "metadata": {},
   "source": []
  }
 ],
 "metadata": {
  "kernelspec": {
   "display_name": "pypy",
   "language": "python",
   "name": "python3"
  },
  "language_info": {
   "codemirror_mode": {
    "name": "ipython",
    "version": 3
   },
   "file_extension": ".py",
   "mimetype": "text/x-python",
   "name": "python",
   "nbconvert_exporter": "python",
   "pygments_lexer": "ipython3",
   "version": "3.10.13"
  }
 },
 "nbformat": 4,
 "nbformat_minor": 5
}
