{
 "cells": [
  {
   "cell_type": "raw",
   "id": "94739e7d-f897-4b17-afc6-f96816756f19",
   "metadata": {},
   "source": [
    "---\n",
    "title: \"test\"\n",
    "author: \"이상민\"\n",
    "date: \"04/04/2025\"\n",
    "---"
   ]
  },
  {
   "cell_type": "code",
   "execution_count": null,
   "id": "6fb3c42c-4026-4627-b4e3-550ae8c8b63a",
   "metadata": {},
   "outputs": [],
   "source": []
  }
 ],
 "metadata": {
  "kernelspec": {
   "display_name": "Python 3 (ipykernel)",
   "language": "python",
   "name": "python3"
  },
  "language_info": {
   "codemirror_mode": {
    "name": "ipython",
    "version": 3
   },
   "file_extension": ".py",
   "mimetype": "text/x-python",
   "name": "python",
   "nbconvert_exporter": "python",
   "pygments_lexer": "ipython3",
   "version": "3.10.13"
  }
 },
 "nbformat": 4,
 "nbformat_minor": 5
}
